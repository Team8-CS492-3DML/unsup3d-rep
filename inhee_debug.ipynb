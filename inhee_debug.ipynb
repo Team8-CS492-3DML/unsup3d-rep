{
 "cells": [
  {
   "cell_type": "code",
   "execution_count": 1,
   "metadata": {},
   "outputs": [
    {
     "name": "stderr",
     "output_type": "stream",
     "text": [
      "/root/miniconda3/envs/neural_render_test/lib/python3.9/site-packages/tqdm/auto.py:22: TqdmWarning: IProgress not found. Please update jupyter and ipywidgets. See https://ipywidgets.readthedocs.io/en/stable/user_install.html\n",
      "  from .autonotebook import tqdm as notebook_tqdm\n"
     ]
    },
    {
     "name": "stdout",
     "output_type": "stream",
     "text": [
      "torch.Size([5, 1, 64, 64])\n",
      "torch.Size([5, 64, 64, 3])\n",
      "torch.Size([5, 3, 64, 64])\n"
     ]
    },
    {
     "ename": "RuntimeError",
     "evalue": "The size of tensor a (64) must match the size of tensor b (5) at non-singleton dimension 2",
     "output_type": "error",
     "traceback": [
      "\u001b[0;31m---------------------------------------------------------------------------\u001b[0m",
      "\u001b[0;31mRuntimeError\u001b[0m                              Traceback (most recent call last)",
      "\u001b[1;32m/root/unsup3d-rep/inhee_debug.ipynb Cell 1'\u001b[0m in \u001b[0;36m<cell line: 4>\u001b[0;34m()\u001b[0m\n\u001b[1;32m      <a href='vscode-notebook-cell://ssh-remote%2B172.10.8.92/root/unsup3d-rep/inhee_debug.ipynb#ch0000000vscode-remote?line=0'>1</a>\u001b[0m \u001b[39mfrom\u001b[39;00m \u001b[39mtest_inhee\u001b[39;00m \u001b[39mimport\u001b[39;00m \u001b[39m*\u001b[39m\n\u001b[0;32m----> <a href='vscode-notebook-cell://ssh-remote%2B172.10.8.92/root/unsup3d-rep/inhee_debug.ipynb#ch0000000vscode-remote?line=3'>4</a>\u001b[0m test_0514(test_util\u001b[39m=\u001b[39;49m\u001b[39mTrue\u001b[39;49;00m)\n\u001b[1;32m      <a href='vscode-notebook-cell://ssh-remote%2B172.10.8.92/root/unsup3d-rep/inhee_debug.ipynb#ch0000000vscode-remote?line=4'>5</a>\u001b[0m test_0514(test_util\u001b[39m=\u001b[39m\u001b[39mFalse\u001b[39;00m)\n",
      "File \u001b[0;32m~/unsup3d-rep/test_inhee.py:362\u001b[0m, in \u001b[0;36mtest_0514\u001b[0;34m(test_util)\u001b[0m\n\u001b[1;32m    <a href='file:///root/unsup3d-rep/test_inhee.py?line=357'>358</a>\u001b[0m b_light \u001b[39m=\u001b[39m b_light\u001b[39m.\u001b[39munsqueeze(\u001b[39m-\u001b[39m\u001b[39m1\u001b[39m)\u001b[39m.\u001b[39munsqueeze(\u001b[39m-\u001b[39m\u001b[39m1\u001b[39m)\n\u001b[1;32m    <a href='file:///root/unsup3d-rep/test_inhee.py?line=360'>361</a>\u001b[0m \u001b[39mif\u001b[39;00m test_util:\n\u001b[0;32m--> <a href='file:///root/unsup3d-rep/test_inhee.py?line=361'>362</a>\u001b[0m     test_utils(b_depth, b_light, b_albedo, b_shading, b_normal, b_canon_img)\n\u001b[1;32m    <a href='file:///root/unsup3d-rep/test_inhee.py?line=363'>364</a>\u001b[0m \u001b[39melse\u001b[39;00m:\n\u001b[1;32m    <a href='file:///root/unsup3d-rep/test_inhee.py?line=364'>365</a>\u001b[0m     test_render(b_depth, b_canon_img, b_view)\n",
      "File \u001b[0;32m~/unsup3d-rep/test_inhee.py:376\u001b[0m, in \u001b[0;36mtest_utils\u001b[0;34m(depth, light, albedo, shading, normal, canon)\u001b[0m\n\u001b[1;32m    <a href='file:///root/unsup3d-rep/test_inhee.py?line=373'>374</a>\u001b[0m my_normal \u001b[39m=\u001b[39m ImgForm\u001b[39m.\u001b[39mdepth_to_normal(depth)\n\u001b[1;32m    <a href='file:///root/unsup3d-rep/test_inhee.py?line=374'>375</a>\u001b[0m \u001b[39mprint\u001b[39m(my_normal\u001b[39m.\u001b[39mshape)\n\u001b[0;32m--> <a href='file:///root/unsup3d-rep/test_inhee.py?line=375'>376</a>\u001b[0m my_shading \u001b[39m=\u001b[39m ImgForm\u001b[39m.\u001b[39;49mnormal_to_shading(normal\u001b[39m.\u001b[39;49mpermute(\u001b[39m0\u001b[39;49m,\u001b[39m3\u001b[39;49m,\u001b[39m1\u001b[39;49m,\u001b[39m2\u001b[39;49m), light\u001b[39m.\u001b[39;49msqueeze())\n\u001b[1;32m    <a href='file:///root/unsup3d-rep/test_inhee.py?line=376'>377</a>\u001b[0m my_canon \u001b[39m=\u001b[39m ImgForm\u001b[39m.\u001b[39malb_to_canon(albedo, my_shading)\n\u001b[1;32m    <a href='file:///root/unsup3d-rep/test_inhee.py?line=379'>380</a>\u001b[0m compare_plot(\u001b[39m'\u001b[39m\u001b[39m./debug/normal.png\u001b[39m\u001b[39m'\u001b[39m, my_normal, au_my_normal\u001b[39m.\u001b[39mdetach()\u001b[39m.\u001b[39mcpu())\n",
      "File \u001b[0;32m~/unsup3d-rep/unsup3d/utils.py:93\u001b[0m, in \u001b[0;36mImageFormation.normal_to_shading\u001b[0;34m(self, normal_map, lighting)\u001b[0m\n\u001b[1;32m     <a href='file:///root/unsup3d-rep/unsup3d/utils.py?line=87'>88</a>\u001b[0m l_dir \u001b[39m/\u001b[39m\u001b[39m=\u001b[39m (l_x \u001b[39m*\u001b[39m\u001b[39m*\u001b[39m \u001b[39m2\u001b[39m \u001b[39m+\u001b[39m l_y \u001b[39m*\u001b[39m\u001b[39m*\u001b[39m \u001b[39m2\u001b[39m \u001b[39m+\u001b[39m \u001b[39m1\u001b[39m) \u001b[39m*\u001b[39m\u001b[39m*\u001b[39m \u001b[39m0.5\u001b[39m   \u001b[39m# l_dir: B x 3\u001b[39;00m\n\u001b[1;32m     <a href='file:///root/unsup3d-rep/unsup3d/utils.py?line=90'>91</a>\u001b[0m l_dir \u001b[39m=\u001b[39m l_dir\u001b[39m.\u001b[39munsqueeze(\u001b[39m-\u001b[39m\u001b[39m1\u001b[39m)\u001b[39m.\u001b[39munsqueeze(\u001b[39m-\u001b[39m\u001b[39m1\u001b[39m)\u001b[39m.\u001b[39mrepeat(\u001b[39m1\u001b[39m, \u001b[39m1\u001b[39m, W, H)\n\u001b[0;32m---> <a href='file:///root/unsup3d-rep/unsup3d/utils.py?line=92'>93</a>\u001b[0m shading_map \u001b[39m=\u001b[39m F\u001b[39m.\u001b[39;49mrelu(torch\u001b[39m.\u001b[39;49msum(l_dir \u001b[39m*\u001b[39;49m normal_map, dim\u001b[39m=\u001b[39;49m\u001b[39m1\u001b[39;49m, keepdim\u001b[39m=\u001b[39;49m\u001b[39mTrue\u001b[39;49;00m)) \u001b[39m*\u001b[39;49m k_d \u001b[39m+\u001b[39m k_s\n\u001b[1;32m     <a href='file:///root/unsup3d-rep/unsup3d/utils.py?line=94'>95</a>\u001b[0m \u001b[39mreturn\u001b[39;00m shading_map\n",
      "\u001b[0;31mRuntimeError\u001b[0m: The size of tensor a (64) must match the size of tensor b (5) at non-singleton dimension 2"
     ]
    }
   ],
   "source": [
    "from test_inhee import *\n",
    "\n",
    "\n",
    "test_0514(test_util=True)\n",
    "test_0514(test_util=False)"
   ]
  },
  {
   "cell_type": "markdown",
   "metadata": {},
   "source": []
  }
 ],
 "metadata": {
  "interpreter": {
   "hash": "6e75a7f5aff8b585cc3b0d2d46cad952fe7378b54f6d5be6b777bf9e91e11768"
  },
  "kernelspec": {
   "display_name": "Python 3.9.12 ('neural_render_test')",
   "language": "python",
   "name": "python3"
  },
  "language_info": {
   "codemirror_mode": {
    "name": "ipython",
    "version": 3
   },
   "file_extension": ".py",
   "mimetype": "text/x-python",
   "name": "python",
   "nbconvert_exporter": "python",
   "pygments_lexer": "ipython3",
   "version": "3.9.12"
  },
  "orig_nbformat": 4
 },
 "nbformat": 4,
 "nbformat_minor": 2
}
